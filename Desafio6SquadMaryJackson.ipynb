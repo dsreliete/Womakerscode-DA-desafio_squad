{
  "nbformat": 4,
  "nbformat_minor": 0,
  "metadata": {
    "colab": {
      "provenance": [],
      "authorship_tag": "ABX9TyPShapCjPVT+nl/CAFr6OnU",
      "include_colab_link": true
    },
    "kernelspec": {
      "name": "python3",
      "display_name": "Python 3"
    },
    "language_info": {
      "name": "python"
    }
  },
  "cells": [
    {
      "cell_type": "markdown",
      "metadata": {
        "id": "view-in-github",
        "colab_type": "text"
      },
      "source": [
        "<a href=\"https://colab.research.google.com/github/dsreliete/Womakerscode-DA-desafio_squad/blob/main/Desafio6SquadMaryJackson.ipynb\" target=\"_parent\"><img src=\"https://colab.research.google.com/assets/colab-badge.svg\" alt=\"Open In Colab\"/></a>"
      ]
    },
    {
      "cell_type": "code",
      "execution_count": null,
      "metadata": {
        "id": "9uM52JRJBtkT"
      },
      "outputs": [],
      "source": [
        "import matplotlib.pyplot as plt\n",
        "import scipy.stats as stats\n",
        "import pandas as pd\n",
        "import numpy as np\n",
        "import seaborn as sns\n",
        "import statsmodels.api as sm"
      ]
    },
    {
      "cell_type": "code",
      "source": [
        "url = \"https://raw.githubusercontent.com/dsreliete/Womakerscode-DA-desafio_squad/refs/heads/main/Heart_disease_statlog.csv\"\n",
        "df = pd.read_csv(url)\n",
        "df"
      ],
      "metadata": {
        "id": "JpPO9JnECFfJ"
      },
      "execution_count": null,
      "outputs": []
    },
    {
      "cell_type": "markdown",
      "source": [
        "**Classificação de Doenças Cardíacas**\n",
        "\n",
        "O objetivo desse conjunto de dados é realizar uma tarefa de classificação, onde se deve prever se uma pessoa tem ou não tem doença cardíaca. A variável de saída (o que queremos prever) é binária, sendo:\n",
        "0: a pessoa não sofre de doença cardíaca.\n",
        "1: a pessoa sofre de doença cardíaca."
      ],
      "metadata": {
        "id": "b7OdfTawCWMU"
      }
    },
    {
      "cell_type": "markdown",
      "source": [
        "**Perguntas:**\n",
        "\n",
        "1- Faça uma análise exploratória dos dados, observando as principais variáveis e sua relação com a variável target.\n"
      ],
      "metadata": {
        "id": "O0Lxb5UuC8rA"
      }
    },
    {
      "cell_type": "code",
      "source": [],
      "metadata": {
        "id": "UbO3JX9PDH_h"
      },
      "execution_count": null,
      "outputs": []
    },
    {
      "cell_type": "markdown",
      "source": [
        "2 - Construa um modelo de regressão logística para classificar se o indivíduo sofre de doença cardíaca ou não.\n"
      ],
      "metadata": {
        "id": "5TMDJN8xDKSK"
      }
    },
    {
      "cell_type": "code",
      "source": [],
      "metadata": {
        "id": "3-FMY9PUDMvu"
      },
      "execution_count": null,
      "outputs": []
    },
    {
      "cell_type": "markdown",
      "source": [
        "3 - Analise o resultado da regressão logística e plote a matriz de confusão."
      ],
      "metadata": {
        "id": "EICZcQb3DNyZ"
      }
    },
    {
      "cell_type": "code",
      "source": [],
      "metadata": {
        "id": "qQYTZLZaDPYf"
      },
      "execution_count": null,
      "outputs": []
    }
  ]
}