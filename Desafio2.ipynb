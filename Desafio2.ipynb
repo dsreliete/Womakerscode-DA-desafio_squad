{
  "nbformat": 4,
  "nbformat_minor": 0,
  "metadata": {
    "colab": {
      "provenance": [],
      "authorship_tag": "ABX9TyPT5iKrL1zzpfy9H+rX8TAP",
      "include_colab_link": true
    },
    "kernelspec": {
      "name": "python3",
      "display_name": "Python 3"
    },
    "language_info": {
      "name": "python"
    }
  },
  "cells": [
    {
      "cell_type": "markdown",
      "metadata": {
        "id": "view-in-github",
        "colab_type": "text"
      },
      "source": [
        "<a href=\"https://colab.research.google.com/github/dsreliete/Womakerscode-DA-desafio_squad/blob/main/Desafio2.ipynb\" target=\"_parent\"><img src=\"https://colab.research.google.com/assets/colab-badge.svg\" alt=\"Open In Colab\"/></a>"
      ]
    },
    {
      "cell_type": "code",
      "source": [
        "import pandas as pd\n",
        "import numpy as np\n",
        "### bibliotecas para visualizacao de dados\n",
        "import seaborn as sns\n",
        "import matplotlib.pyplot as plt\n",
        "### bibliotecas para estatística\n",
        "import scipy.stats as stat\n",
        "### pacote com visualizacoes de dados faltantes\n",
        "import missingno as msno"
      ],
      "metadata": {
        "id": "DorvYoBMY_87"
      },
      "execution_count": null,
      "outputs": []
    },
    {
      "cell_type": "code",
      "execution_count": null,
      "metadata": {
        "id": "YFvgxRDOY9zg"
      },
      "outputs": [],
      "source": [
        "\n",
        "url = 'https://raw.githubusercontent.com/dsreliete/Womakerscode-DA-desafio_squad/main/StudentsPerformance.csv'\n",
        "\n",
        "df= pd.read_csv(url)\n",
        "df.head(10)"
      ]
    }
  ]
}